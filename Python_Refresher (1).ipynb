{
 "cells": [
  {
   "cell_type": "code",
   "execution_count": 24,
   "id": "f2fd9d81-822f-4d79-b396-32f8d9420420",
   "metadata": {},
   "outputs": [
    {
     "name": "stdin",
     "output_type": "stream",
     "text": [
      "Enter number of days: 2\n"
     ]
    },
    {
     "name": "stdout",
     "output_type": "stream",
     "text": [
      "2days have 172800 seconds\n"
     ]
    }
   ],
   "source": [
    "days= int(input(\"Enter number of days:\")) #prompting the user to input the days\n",
    "seconds=days*24*60*60 # conversion of days to seconds\n",
    "print(f\"{days}days have {seconds} seconds\")"
   ]
  },
  {
   "cell_type": "markdown",
   "id": "957164ab-d8bf-46bf-9141-8885622f70df",
   "metadata": {},
   "source": [
    "# question 2\n"
   ]
  },
  {
   "cell_type": "code",
   "execution_count": 5,
   "id": "bad1b20f-c209-4c72-ac4d-accce83ad18d",
   "metadata": {},
   "outputs": [
    {
     "name": "stdin",
     "output_type": "stream",
     "text": [
      "Enter the radius 4\n"
     ]
    },
    {
     "name": "stdout",
     "output_type": "stream",
     "text": [
      "The volume is 268.1904761904762\n"
     ]
    }
   ],
   "source": [
    "radius= int(input(\"Enter the radius\"))\n",
    "volume= (4/3)*22/7*radius ** 3 # formular for the calculation of sphere\n",
    "print(\"The volume is\", volume)"
   ]
  },
  {
   "cell_type": "markdown",
   "id": "765261b6-f4ec-43a1-aaf1-2f5cf789ced8",
   "metadata": {},
   "source": [
    "# quiz 3"
   ]
  },
  {
   "cell_type": "code",
   "execution_count": 9,
   "id": "c9f68dc3-4650-4daa-b4f0-07ac0ec8f73d",
   "metadata": {},
   "outputs": [
    {
     "name": "stdin",
     "output_type": "stream",
     "text": [
      "Input the length 8\n"
     ]
    },
    {
     "name": "stdout",
     "output_type": "stream",
     "text": [
      "the area is 64\n",
      "the perimeter is 32\n"
     ]
    }
   ],
   "source": [
    "length= int(input(\"Input the length\"))\n",
    "area= length*length # formular of getting area\n",
    "perim=length+length+length+length # formular of getting perimeter\n",
    "if length:\n",
    " print(\"the area is\", area)\n",
    " print(\"the perimeter is\", perim)"
   ]
  },
  {
   "cell_type": "markdown",
   "id": "808eedd3-4a5b-406c-8ad6-50fd34021ec8",
   "metadata": {},
   "source": [
    "# quiz 4"
   ]
  },
  {
   "cell_type": "code",
   "execution_count": 15,
   "id": "a9bcbe4d-7f51-44b6-ac3e-1ffe0cad45e4",
   "metadata": {},
   "outputs": [
    {
     "name": "stdin",
     "output_type": "stream",
     "text": [
      "input one character 2\n"
     ]
    },
    {
     "name": "stdout",
     "output_type": "stream",
     "text": [
      "the number inserted is not a character\n",
      "None\n"
     ]
    }
   ],
   "source": [
    "def check_case(char): # function that evaluates the character\n",
    " if char.isupper(): # build in string method that checks case\n",
    "    print(\"the character is an uppercase\")\n",
    " elif char.islower(): # build in string method that checks case\n",
    "    print(\"the character is a lower case\")\n",
    " else:\n",
    "    print(\"the number inserted is not a character\")\n",
    "    \n",
    "user=input(\"input one character\") # promting the user to input a single character\n",
    "\n",
    "if len(user) == 1:\n",
    "    result= check_case(user)\n",
    "    print (result)\n"
   ]
  },
  {
   "cell_type": "markdown",
   "id": "743e68a5-2bf8-4bf7-aae4-e954d0b395a8",
   "metadata": {},
   "source": [
    "# quiz 5\n"
   ]
  },
  {
   "cell_type": "code",
   "execution_count": 22,
   "id": "8e991c74-0ec8-48c7-bea1-5309da79f837",
   "metadata": {},
   "outputs": [
    {
     "name": "stdout",
     "output_type": "stream",
     "text": [
      "the result is 1.0416666666666665\n"
     ]
    }
   ],
   "source": [
    "x=0\n",
    "y=20\n",
    "while y >= 6 :# iteration to happen if the number is still greater or equal to 6\n",
    "    y -= 4\n",
    "    x += 2 /y\n",
    "print(\"the result is\", x)"
   ]
  },
  {
   "cell_type": "markdown",
   "id": "4be064b2-2ea6-4faa-bff5-cda3ea1e6921",
   "metadata": {},
   "source": [
    "# quiz 6"
   ]
  },
  {
   "cell_type": "code",
   "execution_count": 39,
   "id": "017789fd-2347-40ab-adba-071f6dc478af",
   "metadata": {},
   "outputs": [
    {
     "name": "stdout",
     "output_type": "stream",
     "text": [
      "enter 5 value\n"
     ]
    },
    {
     "ename": "TypeError",
     "evalue": "'float' object is not callable",
     "output_type": "error",
     "traceback": [
      "\u001b[1;31m---------------------------------------------------------------------------\u001b[0m",
      "\u001b[1;31mTypeError\u001b[0m                                 Traceback (most recent call last)",
      "Cell \u001b[1;32mIn[39], line 5\u001b[0m\n\u001b[0;32m      3\u001b[0m \u001b[38;5;28;01mwhile\u001b[39;00m \u001b[38;5;28mlen\u001b[39m(value) \u001b[38;5;241m<\u001b[39m\u001b[38;5;241m5\u001b[39m:\n\u001b[0;32m      4\u001b[0m     \u001b[38;5;28;01mtry\u001b[39;00m:\n\u001b[1;32m----> 5\u001b[0m         user \u001b[38;5;241m=\u001b[39m \u001b[38;5;28mint\u001b[39m(\u001b[38;5;28minput\u001b[39m(\u001b[38;5;124mf\u001b[39m\u001b[38;5;124m\"\u001b[39m\u001b[38;5;124menter value \u001b[39m\u001b[38;5;132;01m{\u001b[39;00m\u001b[38;5;28mlen\u001b[39m(value)\u001b[38;5;250m \u001b[39m\u001b[38;5;241m+\u001b[39m\u001b[38;5;241m1\u001b[39m\u001b[38;5;132;01m:\u001b[39;00m\u001b[38;5;132;01m}\u001b[39;00m\u001b[38;5;124m\"\u001b[39m))\n\u001b[0;32m      6\u001b[0m         value\u001b[38;5;241m.\u001b[39mappend(user)\n\u001b[0;32m      7\u001b[0m     \u001b[38;5;28;01mexcept\u001b[39;00m \u001b[38;5;167;01mValueError\u001b[39;00m:\n",
      "\u001b[1;31mTypeError\u001b[0m: 'float' object is not callable"
     ]
    }
   ],
   "source": [
    "\n",
    "value = []\n",
    "print(\"enter 5 value\")\n",
    "while len(value) <5:\n",
    "    try:\n",
    "        user = int(input(f\"enter value {len(value) +1:}\"))\n",
    "        value.append(user)\n",
    "    except ValueError:\n",
    "        print(\"invalid output, enter a numerical number\")\n",
    "print(\"array contains:\", value)\n",
    "\n",
    "\n"
   ]
  },
  {
   "cell_type": "code",
   "execution_count": null,
   "id": "e5cb2b9f-4dac-41df-8ccd-29907fd13c54",
   "metadata": {},
   "outputs": [],
   "source": []
  },
  {
   "cell_type": "code",
   "execution_count": null,
   "id": "08aeefbc-fdd9-4aa7-abb9-3ccb5f871e3e",
   "metadata": {},
   "outputs": [],
   "source": []
  }
 ],
 "metadata": {
  "kernelspec": {
   "display_name": "Python [conda env:base] *",
   "language": "python",
   "name": "conda-base-py"
  },
  "language_info": {
   "codemirror_mode": {
    "name": "ipython",
    "version": 3
   },
   "file_extension": ".py",
   "mimetype": "text/x-python",
   "name": "python",
   "nbconvert_exporter": "python",
   "pygments_lexer": "ipython3",
   "version": "3.13.5"
  }
 },
 "nbformat": 4,
 "nbformat_minor": 5
}
